{
  "nbformat": 4,
  "nbformat_minor": 0,
  "metadata": {
    "colab": {
      "name": "pythonBasics.ipynb",
      "provenance": [],
      "collapsed_sections": [],
      "mount_file_id": "1-w8oSySkmGWTqcWhme_UKFpS-yQfpUZQ",
      "authorship_tag": "ABX9TyMVt4lIrH8qAxSxmD8qxSit",
      "include_colab_link": true
    },
    "kernelspec": {
      "name": "python3",
      "display_name": "Python 3"
    },
    "language_info": {
      "name": "python"
    }
  },
  "cells": [
    {
      "cell_type": "markdown",
      "metadata": {
        "id": "view-in-github",
        "colab_type": "text"
      },
      "source": [
        "<a href=\"https://colab.research.google.com/github/shubhamkadu/pythonBasic/blob/main/pythonBasics.ipynb\" target=\"_parent\"><img src=\"https://colab.research.google.com/assets/colab-badge.svg\" alt=\"Open In Colab\"/></a>"
      ]
    },
    {
      "cell_type": "code",
      "metadata": {
        "id": "Tsax0D7x4634"
      },
      "source": [
        "carector_name=\"himanshu\"\n",
        "carector_age=\"54\"\n",
        "print(\"pubg playing boy is\"+carector_name)\n",
        "print(\"age of the boy is\"+carector_age)\n",
        "\n",
        "# we can't do string and number concatination\n"
      ],
      "execution_count": null,
      "outputs": []
    },
    {
      "cell_type": "code",
      "metadata": {
        "id": "1rWh-1Me5sbn"
      },
      "source": [
        "a=\"rugwed\"\n",
        "print(a.upper())\n",
        "print(a.isupper())\n",
        "print(a.upper().isupper())\n",
        "\n",
        "\n",
        "name=input(\"enter name\")\n",
        "print(\"helllllo\"+name)\n",
        "\n",
        "\n"
      ],
      "execution_count": null,
      "outputs": []
    },
    {
      "cell_type": "code",
      "metadata": {
        "id": "WOIe40WiEyYy"
      },
      "source": [
        "t=[1,2,3,6,4,5]\n",
        "r=[\"sh\",'jh','isdh']\n",
        "t.extend(r)\n",
        "print(t)\n",
        "r.append('zzz')\n",
        "print(r)\n",
        "r.insert(2,'qqqqq')\n",
        "print(r)\n",
        "t.remove(2)\n",
        "print(t)\n",
        "t.clear()\n",
        "print(t)\n",
        "r.pop()\n",
        "print(r)\n",
        "print(r.index(\"sh\"))\n",
        "print(r.count('sh'))\n",
        "t.sort()\n",
        "print(t)\n"
      ],
      "execution_count": null,
      "outputs": []
    },
    {
      "cell_type": "code",
      "metadata": {
        "id": "lzoQWm5KH431"
      },
      "source": [
        "r=[1,5,3,7,8]\n",
        "r.sort()\n",
        "print(r)\n",
        "r.reverse()\n",
        "print(r)\n",
        "r1=r\n",
        "print(r1)\n",
        "r1=r.copy\n",
        "print(r1)\n"
      ],
      "execution_count": null,
      "outputs": []
    },
    {
      "cell_type": "code",
      "metadata": {
        "colab": {
          "base_uri": "https://localhost:8080/"
        },
        "id": "l727uTLTpTUE",
        "outputId": "997b8685-9fa7-4351-ac6f-123361a5f572"
      },
      "source": [
        "# lists :-> use to store multiple item in single variable\n",
        "\n",
        "#ordered,changealbe and allow duplicates\n",
        "\n",
        "#ordered:-> each item in list have ordered i.e car at 0 position and,bike at 1 pos. and so on\n",
        "#item added at last position\n",
        "\n",
        "\n",
        "list=['car','bike',12,12.34,True]      \n",
        "print(list)\n",
        "print(len(list)) \n",
        "print(type(list))\n",
        "print(list[0])\n",
        "print(list[2:5])\n",
        "list[2]='scooter'\n",
        "print(list)\n",
        "list[1:4]='shubham'\n",
        "print(list)\n",
        "list[1:4]=[3,'shubham','hello']\n",
        "print(list)\n",
        "list.insert(4,'null')\n",
        "print(list)\n",
        "list.append(55555)\n",
        "print(list)"
      ],
      "execution_count": null,
      "outputs": [
        {
          "output_type": "stream",
          "text": [
            "['car', 'bike', 12, 12.34, True]\n",
            "5\n",
            "<class 'list'>\n",
            "car\n",
            "[12, 12.34, True]\n",
            "['car', 'bike', 'scooter', 12.34, True]\n",
            "['car', 's', 'h', 'u', 'b', 'h', 'a', 'm', True]\n",
            "['car', 3, 'shubham', 'hello', 'b', 'h', 'a', 'm', True]\n",
            "['car', 3, 'shubham', 'hello', 'null', 'b', 'h', 'a', 'm', True]\n",
            "['car', 3, 'shubham', 'hello', 'null', 'b', 'h', 'a', 'm', True, 55555]\n"
          ],
          "name": "stdout"
        }
      ]
    },
    {
      "cell_type": "code",
      "metadata": {
        "id": "ChWgB9E-JQvu"
      },
      "source": [
        "#tuple :->tuple is a type of datastructure basically called it container\n",
        "coordinates=(1,5)   #tuple is immutible we cannot modify and change,add element\n",
        "print(coordinates[1])#we cannot change the element like this coordinates[1]=4\n",
        "co=[(1,2),(3,6),(1,2),(9,7)]  # tuple inside the list\n",
        "print(co)\n",
        "co[0]=(10,20) #we can change like this because of tuple inside the list\n",
        "print(co)\n",
        "\n",
        "\n",
        "\n",
        "\n",
        "\n",
        "#ordered,unchangealbe and allow duplicates\n",
        "tuple=('car','bike',12,12.34,True) \n",
        "\n",
        "#we can use any variable name instead of tuple variable name\n",
        "mytuple=('car','bike',12,12.34,True)    \n",
        "\n",
        "print(tuple)\n",
        "print(len(tuple)) \n",
        "print(type(tuple))\n",
        "print(tuple[0])\n",
        "print(tuple[2:5])\n",
        "#tuple[2]='scooter' we cannot do this in tuple\n",
        "print(tuple)\n",
        "#tuple[1:4]='shubham' \n",
        "print(tuple)\n",
        "#tuple[1:4]=[3,'shubham','hello']  \n",
        "print(tuple)\n",
        "#tuple.insert(4,'null')\n",
        "print(tuple)\n",
        "#tuple.append(55555)\n",
        "print(tuple)\n",
        "\n",
        "\n",
        "tuple=('car') # if we put single string item in tuple it become string\n",
        "print(type(tuple))\n",
        "\n",
        "tuple=(12) # if we put single intiger item in tuple it become intiger\n",
        "print(type(tuple))\n",
        "\n",
        "\n",
        "\n"
      ],
      "execution_count": null,
      "outputs": []
    },
    {
      "cell_type": "code",
      "metadata": {
        "id": "JuHCyj_BERhr",
        "colab": {
          "base_uri": "https://localhost:8080/"
        },
        "outputId": "db2a2fe5-9920-4d41-8c68-db2b6c835633"
      },
      "source": [
        "list=[1,3,4,6,3,24]\n",
        "[i/2 for i in list]"
      ],
      "execution_count": null,
      "outputs": [
        {
          "output_type": "execute_result",
          "data": {
            "text/plain": [
              "[0.5, 1.5, 2.0, 3.0, 1.5, 12.0]"
            ]
          },
          "metadata": {
            "tags": []
          },
          "execution_count": 9
        }
      ]
    },
    {
      "cell_type": "code",
      "metadata": {
        "id": "POSDjxUvMHv7"
      },
      "source": [
        "# dictionary:-> store the data in key value pair\n",
        "#unordered, changeable and Do not allow duplicates value\n",
        "dictt={\n",
        "    \"name\":\"shubham\",\n",
        "    \"age\":23,\n",
        "    \"vehicle\":\"ford endeavour\",\n",
        "    \"DOB\":\"8-6-1998\",\n",
        "    \"single\":True,\n",
        "    \"single\":False,  # not allow duplicates value it overwrite\n",
        "    \"fruits\":['apple','bananas','blueberries',12]\n",
        "}\n",
        "print(dictt)\n",
        "\n",
        "#this how we can access any single value\n",
        "x=dictt['fruits']  \n",
        "print(x)\n",
        "\n",
        "#this how we can access any single value\n",
        "y=dictt.get('name')  \n",
        "print(y)\n",
        "\n",
        "#to change the value\n",
        "dictt['name']='rugwed'\n",
        "print(dictt)\n",
        "  #or\n",
        "print(dictt.update({\"name\":'himanshu'}))\n",
        "\n",
        "#to add the value\n",
        "dictt['colour']='yellow'\n",
        "print(dictt)\n",
        "\n",
        "# to remove value\n",
        "dictt.pop('name')\n",
        "print(dictt)\n",
        "\n",
        "import collections\n",
        "d1 = {'spam': 1}\n",
        "d2 = {'eggs': 2}\n",
        "merged = collections.ChainMap(d2, d1)\n",
        "print(merged)\n",
        "# merged['eggs'] = 999"
      ],
      "execution_count": null,
      "outputs": []
    },
    {
      "cell_type": "code",
      "metadata": {
        "colab": {
          "base_uri": "https://localhost:8080/"
        },
        "id": "GT_ptCrZlEaW",
        "outputId": "6951290b-b621-46a4-af09-7f2159dc7a13"
      },
      "source": [
        "#list comprehension\n",
        "#list comprehension offer us to create a new list from existing list with smaller list of code\n",
        "fruits=['apples','bananas','kivi','mango']\n",
        "newfruits=[x for x in fruits if 'i' in x] # newfruits print the x automatically for the x in fruits if the i is present in x\n",
        "print(newfruits)\n",
        "\n",
        "newfruits=[x for x in fruits if x !='bananas'] \n",
        "print(newfruits)\n",
        "\n",
        "num=[x for x in range(10) if x<5]\n",
        "print(num)\n",
        "\n",
        "\n",
        "fruits=['apples','bananas','kivi','mango']\n",
        "newfruits=[x if x!='bananas' else 'orange' for x in fruits]\n",
        "print(newfruits)\n",
        "\n",
        "\n",
        "list=[1,3,4,6,3,24]\n",
        "[i/2 for i in list]\n",
        "\n"
      ],
      "execution_count": null,
      "outputs": [
        {
          "output_type": "stream",
          "text": [
            "['kivi']\n",
            "['apples', 'kivi', 'mango']\n",
            "[0, 1, 2, 3, 4]\n",
            "['apples', 'orange', 'kivi', 'mango']\n"
          ],
          "name": "stdout"
        }
      ]
    },
    {
      "cell_type": "code",
      "metadata": {
        "id": "PRugK_JrQ1lS"
      },
      "source": [
        "def greet_all(names: list[str]) -> None:\n",
        "    for name in names:\n",
        "        print(\"Hello\", name)"
      ],
      "execution_count": null,
      "outputs": []
    },
    {
      "cell_type": "code",
      "metadata": {
        "id": "q7h5eUOMKBEe"
      },
      "source": [
        "def validate():\n",
        "    lis1 = [5,6]\n",
        "    lis2 = map(lambda x: x % 2, lis1)\n",
        "    return lis2\n",
        "print(validate())\n",
        "\n"
      ],
      "execution_count": null,
      "outputs": []
    },
    {
      "cell_type": "code",
      "metadata": {
        "id": "pWwPHiQzKp8i",
        "colab": {
          "base_uri": "https://localhost:8080/"
        },
        "outputId": "02021d44-264a-4b42-9d52-a8da97181d83"
      },
      "source": [
        "def sample(n):\n",
        "    def product(x):\n",
        "        return x * n\n",
        "    return product\n",
        "\n",
        "x = sample(10)\n",
        "y = sample(15)\n",
        "\n",
        "print(x(y(4)))\n",
        " "
      ],
      "execution_count": null,
      "outputs": [
        {
          "output_type": "stream",
          "text": [
            "600\n"
          ],
          "name": "stdout"
        }
      ]
    },
    {
      "cell_type": "code",
      "metadata": {
        "id": "dS3M0ZPLJSuF"
      },
      "source": [
        "#  functions\n",
        "# function a collection of code to perform a spesific task\n",
        "\n",
        "def animal_humen():\n",
        "  print(\"hello fuckers\")\n",
        "animal_humen()\n",
        "\n",
        "# paramer is a piece of information give to function\n",
        "\n",
        "def animal_humen(name):     # the name inside animal_humen() is argument\n",
        "  print(\"hello fucker\" + name)\n",
        "animal_humen(\"shubham\")     # the shubham inside animal_humen() is parameter\n",
        "\n",
        "\n",
        "def animal_humen(name,age):\n",
        "  print(\"hello\" + name + \"my age is\" +age)\n",
        "animal_humen(\"mike\",\"101\")\n",
        "\n",
        "\n",
        "def animal_humen(name,age):\n",
        "  print(\"hello\" + name + \"my age is\" +str(age))\n",
        "animal_humen(\"mike\",101)\n",
        "\n",
        "# return statement in function\n",
        "# return keyword allow us get some infromation or value from function\n",
        "\n",
        "def cub(num):\n",
        "  num*num*num\n",
        "cub(3)         # it's not giving anything in the output\n",
        "print(cub(3))  # also it's not working\n",
        "\n",
        "def cub(num):\n",
        "  return num*num*num\n",
        "  print(\"shubham\")  # after return statement not going execute any line of code\n",
        "cub(3)   \n",
        "result = cub(4)\n",
        "print(result)\n"
      ],
      "execution_count": null,
      "outputs": []
    },
    {
      "cell_type": "code",
      "metadata": {
        "id": "bGsRlCg0cxrN"
      },
      "source": [
        "# to find the square and cube of numbers\n",
        "list = [1,2,3,4,5,6,7]\n",
        "y=[]\n",
        "def long(x):\n",
        "  for i in x:\n",
        "    y.append(i*3)\n",
        "  print(y)\n",
        "long(list)  \n",
        "\n",
        "or\n",
        "\n",
        "[i*3 for i in list]\n"
      ],
      "execution_count": null,
      "outputs": []
    },
    {
      "cell_type": "code",
      "metadata": {
        "colab": {
          "base_uri": "https://localhost:8080/"
        },
        "id": "ZmXUqNIvwnIF",
        "outputId": "27e1a0af-a208-4500-b342-d2705781adee"
      },
      "source": [
        "#function as argument\n",
        "\n",
        "list=['car','bus','bike','scooter']\n",
        "\n",
        "def loop(x):\n",
        "  print(x*3)\n",
        "\n",
        "def map_simple(crazy,list):\n",
        "  for items in list:\n",
        "    crazy(items)\n",
        "map_simple(loop,list)"
      ],
      "execution_count": null,
      "outputs": [
        {
          "output_type": "stream",
          "text": [
            "carcarcar\n",
            "busbusbus\n",
            "bikebikebike\n",
            "scooterscooterscooter\n"
          ],
          "name": "stdout"
        }
      ]
    },
    {
      "cell_type": "code",
      "metadata": {
        "id": "13cIDrAfQB89"
      },
      "source": [
        "# if statements\n",
        "is_male = True\n",
        "\n",
        "if is_male:\n",
        "  print(\"shubham\")\n",
        "else:\n",
        "  print(\"rashmi\")  \n",
        "\n",
        "is_male = True\n",
        "is_tall = True\n",
        "\n",
        "if is_male or is_tall:\n",
        "  print(\"shubham\")\n",
        "else:\n",
        "  print(\"rashmi\")    \n",
        "\n",
        "is_male = True\n",
        "is_tall = False\n",
        "\n",
        "if is_male and is_tall:\n",
        "  print(\"shubham\")\n",
        "else:\n",
        "  print(\"rashmi\")    \n",
        "\n",
        "\n",
        "if is_male and is_tall:\n",
        "  print(\"shubham\")\n",
        "elif is_male and not(is_tall):\n",
        "    print(\"u r ashort male\")\n",
        "elif not(is_male) and is_tall:\n",
        "    print(\"u r ashort male\")    \n",
        "else:\n",
        "  print(\"rashmi\")   \n",
        "\n",
        "\n",
        "\n",
        "\n",
        "\n",
        "\n",
        "def max_num(num1,num2,num3):\n",
        "  if num1>=num2 and num1>=num3: #not equal to (!=)\n",
        "    return num1\n",
        "  elif num2>= num1 and num2>=num3:\n",
        "    return num2      \n",
        "  else:\n",
        "    return num3  \n",
        "max_num(6,4,8)      "
      ],
      "execution_count": null,
      "outputs": []
    },
    {
      "cell_type": "code",
      "metadata": {
        "id": "Jwugim_gX7BG"
      },
      "source": [
        "num1 = float(input(\"enter first number: \"))\n",
        "op = input(\"enter  operator: \")\n",
        "num2 = float(input(\"enter second number: \"))\n",
        "\n",
        "if op == \"+\":\n",
        "  print(num1+num2)\n",
        "elif op == \"-\":\n",
        "  print(num1-num2)\n",
        "elif op == \"/\":\n",
        "   print(num1/num2)    \n",
        "elif op == \"*\":\n",
        "   print(num1*num2)\n",
        "else:\n",
        "  print(\"invalid operator\")      \n"
      ],
      "execution_count": null,
      "outputs": []
    },
    {
      "cell_type": "code",
      "metadata": {
        "id": "7iHR27uMZ5Rq"
      },
      "source": [
        "#Dictionary\n",
        "# the dictionary is aspecial structure in python which allow us to store information in key value pair\n",
        "dic = {\n",
        "    \"sh\":\"shubham\",\n",
        "    \"kd\":\"kadu\",\n",
        "    \"rg\":\"rugwed\",\n",
        "    \"hm\":\"himanshu\",\n",
        "    \"rm\":\"rashmi\",\n",
        "    \n",
        "}\n",
        "print(dic[\"sh\"])\n",
        "print(dic.get(\"hm\"))\n",
        "print(dic.get(\"lv\")) #it give the none for invalid key\n",
        "\n",
        "\n",
        "dic = {\n",
        "    0:\"shubham\",\n",
        "    1:\"kadu\",\n",
        "    2:\"rugwed\",\n",
        "    3:\"himanshu\",\n",
        "    4:\"rashmi\",\n",
        "    \n",
        "}\n",
        "print(dic[0])\n"
      ],
      "execution_count": null,
      "outputs": []
    },
    {
      "cell_type": "code",
      "metadata": {
        "id": "g4F3VeDjkUuf"
      },
      "source": [
        "# while Loop\n",
        "# while loop is basically a structure in python which allows us to loop through and execute block of code multiple time\n",
        "\n",
        "i=1\n",
        "while i<=10:\n",
        "  print(i)\n",
        "  i+=1\n",
        "print(\"done with loop\")  \n",
        "\n",
        "\n",
        "\n",
        "\n",
        "\n",
        "secret_word = \"shubham\"\n",
        "\n",
        "while input(\"enter guess: \") != secret_word:\n",
        "  print(\"not correct\")\n",
        "\n",
        "print(\"you win\")\n",
        "\n",
        "\n",
        "\n",
        "\n",
        "secret_word = \"shubham\"\n",
        "guess =\"\"\n",
        "while guess!= secret_word:\n",
        "  guess=input(\"enter guess:\")\n",
        "  print(\"not correct\")\n",
        "\n",
        "print(\"you win\")\n",
        "\n",
        "\n",
        "\n",
        "secret_word = \"shubham\"\n",
        "guess =\"\"\n",
        "guess_counter = 0\n",
        "out_of_guess = False\n",
        "\n",
        "while guess!= secret_word and not(out_of_guess):\n",
        "  if guess_counter<=3:\n",
        "    guess=input(\"enter guess:\")\n",
        "    guess_counter += 1\n",
        "  else:\n",
        "    out_of_guess = True\n",
        "if out_of_guess:\n",
        "  print(\"out of the guess, tou lose!\")\n",
        "else:\n",
        "  print(\"you win\")  \n",
        "\n",
        "\n",
        "\n",
        "\n"
      ],
      "execution_count": null,
      "outputs": []
    },
    {
      "cell_type": "code",
      "metadata": {
        "id": "Jc3hgQIJ9kd_"
      },
      "source": [
        "secret_word = \"shubham\"\n",
        "guess_counter = 0\n",
        "a=3\n",
        "\n",
        "while input(\"enter guess:\")!= secret_word:\n",
        "  if guess_counter<3:\n",
        "    print(\"incorrect guess\")\n",
        "    print(\"you have only chance:\"+str(a))\n",
        "    a -= 1\n",
        "    guess_counter += 1\n",
        "  else:\n",
        "    break\n",
        "if guess_counter>2:\n",
        "  print(\"out of the guess, you lose!\")\n",
        "else:\n",
        "  print(\"you win\")  \n"
      ],
      "execution_count": null,
      "outputs": []
    },
    {
      "cell_type": "code",
      "metadata": {
        "id": "HMq9U39EuokA"
      },
      "source": [
        "# for loop\n",
        "\n",
        "\n",
        "for letter in \"shubham\":\n",
        "  print(letter) \n",
        "\n",
        "\n",
        "frd=[\"shubham\",\"rugwed\",\"himanshu\"]\n",
        "for f in frd:\n",
        "  print(f)\n",
        "\n",
        "\n",
        "\n",
        "\n",
        "for i in range(10):\n",
        "  print(i)\n",
        "\n",
        "\n",
        "for i in range(5,10):\n",
        "  print(i)  \n",
        "\n",
        "\n",
        "frd=[\"shubham\",\"rugwed\",\"himanshu\"]\n",
        "for i in range(len(frd)):\n",
        "  print(i)\n",
        "\n",
        "\n",
        "\n",
        "\n",
        "frd=[\"shubham\",\"rugwed\",\"himanshu\"]\n",
        "for i in range(len(frd)):\n",
        "  print(frd[i])"
      ],
      "execution_count": null,
      "outputs": []
    },
    {
      "cell_type": "code",
      "metadata": {
        "id": "kchi99iJ6ehd"
      },
      "source": [
        "#  Exponent function\n",
        "\n",
        "def raise_to_power(base_num,pow_num):\n",
        "  result=1\n",
        "  for i  in range(pow_num):\n",
        "    result=result*base_num\n",
        "  return result\n",
        "raise_to_power(9,3)    "
      ],
      "execution_count": null,
      "outputs": []
    },
    {
      "cell_type": "code",
      "metadata": {
        "colab": {
          "base_uri": "https://localhost:8080/"
        },
        "id": "i5mkqKju9T04",
        "outputId": "ec8106c8-0990-46ce-ef3e-c25ad6de6019"
      },
      "source": [
        "#2D lists and nested loops\n",
        "\n",
        "#2D lists\n",
        "\n",
        "number=[\n",
        "        [1,2,3],\n",
        "        [3,4,5],\n",
        "        [8,4,6],\n",
        "        ]\n",
        "for row in number:\n",
        "  print(row)\n",
        "  for col in row:\n",
        "    print(col)\n",
        "\n",
        "\n"
      ],
      "execution_count": null,
      "outputs": [
        {
          "output_type": "stream",
          "text": [
            "[1, 2, 3]\n",
            "1\n",
            "2\n",
            "3\n",
            "[3, 4, 5]\n",
            "3\n",
            "4\n",
            "5\n",
            "[8, 4, 6]\n",
            "8\n",
            "4\n",
            "6\n"
          ],
          "name": "stdout"
        }
      ]
    },
    {
      "cell_type": "code",
      "metadata": {
        "colab": {
          "base_uri": "https://localhost:8080/"
        },
        "id": "Q0TZNL0oRiGp",
        "outputId": "409d903e-dae3-4cef-ed57-f255c3e31de3"
      },
      "source": [
        "#Build translator\n",
        "def translate(phrase):\n",
        "  tranlation = ''\n",
        "  for letter in phrase:\n",
        "    if letter in 'AEIOUaeoiu':\n",
        "      if letter.isupper():\n",
        "            tranlation+='G'\n",
        "      else:\n",
        "           tranlation+='g'\n",
        "    else:\n",
        "      tranlation +=letter \n",
        "  return tranlation\n",
        "print(translate(input(\" enter the phrase: \")))        \n"
      ],
      "execution_count": null,
      "outputs": [
        {
          "output_type": "stream",
          "text": [
            " enter the phrase: ShUbham\n",
            "ShGbhgm\n"
          ],
          "name": "stdout"
        }
      ]
    },
    {
      "cell_type": "code",
      "metadata": {
        "id": "GfTao7SAX6A8"
      },
      "source": [
        "#comments in python\n",
        "'''shubham\n",
        "rugwed\n",
        "himanshu'''\n"
      ],
      "execution_count": null,
      "outputs": []
    },
    {
      "cell_type": "code",
      "metadata": {
        "id": "o01UQHUkYpti"
      },
      "source": [
        "try:\n",
        "  ans = 10/0\n",
        "  num = int(input('enter the input: '))\n",
        "  print(num)\n",
        "except ZeroDivisionError:\n",
        "  print('divided by zero')  \n",
        "except ValueError:\n",
        "  print('invalid syntax')  "
      ],
      "execution_count": null,
      "outputs": []
    },
    {
      "cell_type": "code",
      "metadata": {
        "id": "7YJSWWFTbT2P"
      },
      "source": [
        "#Reading python files\n",
        "\n",
        "open('file name OR path of the file','r') # to read\n",
        "open('file name','w') # to write\n",
        "open('file name ','r+') # it means read and write\n",
        "open('file name ','a') # a means append and we cannot change cointend of file but add the information at the end of the file\n",
        "\n",
        "\n",
        "# to store the open file in variable\n",
        "\n",
        "\n",
        "file = open('file name ','r') # it store the opend file in file varialbe\n",
        "file.close()  # to close the file for security\n",
        "\n",
        "# to check file is readable or not\n",
        "\n",
        "file = open('file name ','r')\n",
        "print(file.readable) # to check file is readable or not if it is then return true\n",
        "\n",
        "\n",
        "file = open('file name ','w')\n",
        "print(file.readable) # it is not readable\n",
        "\n",
        "#  to read file\n",
        "file = open('file name ','r')\n",
        "print(file.read())\n",
        "\n",
        "# to read individual line of file\n",
        "file = open('file name ','r')\n",
        "print(file.readline())\n",
        "\n",
        "\n",
        "# to read charectors in the file\n",
        "file = open('file name ','r')\n",
        "print(file.read(30))\n",
        "\n",
        "print(file.readlines()) # to read multiple lines but it return in array formate\n",
        "print(file.readlines()[1]) # it read first line which store in array formate\n",
        "\n",
        "# for loop to read lines in files\n",
        "file = open('file name ','r')\n",
        "\n",
        "for line in file.readlines():\n",
        "  print(line)\n",
        "file.close()  \n",
        "\n",
        "\n",
        "\n",
        "\n"
      ],
      "execution_count": null,
      "outputs": []
    },
    {
      "cell_type": "code",
      "metadata": {
        "id": "swaDdVm8WKox"
      },
      "source": [
        "# write into end of the file\n",
        "\n",
        "file = open('file name ','a')\n",
        "file.write('this is the line going to add at end of the file') # if we run this agian and agian then it add same line in front of previous line not in next line\n",
        "print(file.readline) \n",
        "\n",
        "\n",
        "file.write('\\n this is the second line add in new line in to file')\n",
        "\n",
        "# write in to the file\n",
        "\n",
        "file = open('file name ','w')\n",
        "file.write('this is the line')# this overwrite the line in file\n",
        "\n",
        "# to  create file\n",
        "\n",
        "file = open('index.html','w') # w also can create a new file i.e it create file called index.html\n",
        "file.write('<p> this is the line</p>')\n",
        "\n",
        "\n",
        "# to delete the file\n",
        "import os\n",
        "os.remove(\"file name\")\n",
        "\n",
        "\n",
        "\n",
        "import os\n",
        "if os.path.exists(\"file name\"):\n",
        "  os.remove(\"file name\")\n",
        "else:\n",
        "  print(\"file does not exists\")  \n",
        "\n",
        "\n"
      ],
      "execution_count": null,
      "outputs": []
    },
    {
      "cell_type": "code",
      "metadata": {
        "id": "mKebkjrDcc9I"
      },
      "source": [
        "#  Modules and pip\n",
        "\n",
        "# module is just a python file that we can import it in to current python file\n",
        "# if we have one python file that cointant lot of function and variable\n",
        "#and we want to use them in to current file then module help us\n",
        "\n",
        "\n",
        "\n",
        "\n"
      ],
      "execution_count": null,
      "outputs": []
    },
    {
      "cell_type": "code",
      "metadata": {
        "id": "l_0VE0dXZASz",
        "colab": {
          "base_uri": "https://localhost:8080/"
        },
        "outputId": "191dcdb8-bec2-4992-c513-9fcca5ecd798"
      },
      "source": [
        "#class and Object\n",
        "\n",
        "#classes is something that cunstruct the object and blueprint for object\n",
        "\n",
        "class human:\n",
        "  x=5\n",
        "\n",
        "h1=human\n",
        "print(h1.x)\n",
        "\n",
        "# __init__() function is executed when the classes is initialized\n",
        "\n",
        "# all classes have this function\n",
        "\n",
        "class human:\n",
        "  def __init__(self,name,age): # self parameter is the references to the current instances of the class and it is use to acess variable belong to class\n",
        "                                \n",
        "    self.name=name\n",
        "    self.age=age\n",
        "\n",
        "  def methods(self):  #this is the object method also object containt method in them\n",
        "      print(\"hii i'm \" + self.name)\n",
        "\n",
        "h1=human(\"shubham\",23)\n",
        "h2=human(\"rahul\",24)\n",
        "h1.methods() \n",
        "h2.methods()  \n",
        "\n",
        "\n",
        "\n"
      ],
      "execution_count": null,
      "outputs": [
        {
          "output_type": "stream",
          "text": [
            "5\n",
            "hii i'm shubham\n",
            "hii i'm rahul\n"
          ],
          "name": "stdout"
        }
      ]
    },
    {
      "cell_type": "code",
      "metadata": {
        "id": "jeZJmlQvZAKo"
      },
      "source": [
        ""
      ],
      "execution_count": null,
      "outputs": []
    },
    {
      "cell_type": "code",
      "metadata": {
        "id": "NPceLfaL5qgw"
      },
      "source": [
        "print(binascii.crc32(b\"hello world\"))\n"
      ],
      "execution_count": null,
      "outputs": []
    },
    {
      "cell_type": "code",
      "metadata": {
        "colab": {
          "base_uri": "https://localhost:8080/"
        },
        "id": "ydHwlTMG_PMl",
        "outputId": "4a24b8b6-0154-4ef8-943d-47a8255aa8dc"
      },
      "source": [
        "a=[1,2,3,4,5]\n",
        "b=len(a)\n",
        "b=b//2\n",
        "c=[]\n",
        "d=[]\n",
        "count=0\n",
        "for i in a:    \n",
        "    if(count<b):\n",
        "        c.append(i)\n",
        "        count+=1\n",
        "    else:\n",
        "        d.append(i)\n",
        "print(c)\n",
        "print(d)\n"
      ],
      "execution_count": null,
      "outputs": [
        {
          "output_type": "stream",
          "text": [
            "[1, 2]\n",
            "[3, 4, 5]\n"
          ],
          "name": "stdout"
        }
      ]
    },
    {
      "cell_type": "code",
      "metadata": {
        "colab": {
          "base_uri": "https://localhost:8080/"
        },
        "id": "IKFUQf8AE90d",
        "outputId": "9c34d459-3643-426c-cce5-9a5662e92991"
      },
      "source": [
        "\n",
        "a=[5,89,12,89,12,87,56,36,56]\n",
        "d=0\n",
        "count=0\n",
        "e=3\n",
        "for i in a:\n",
        "  if(count==e):\n",
        "    d=i\n",
        "    for i in a:\n",
        "      if(i==d):\n",
        "        print(d)\n",
        "  count+=1   \n",
        "        "
      ],
      "execution_count": null,
      "outputs": [
        {
          "output_type": "stream",
          "text": [
            "89\n",
            "89\n"
          ],
          "name": "stdout"
        }
      ]
    },
    {
      "cell_type": "code",
      "metadata": {
        "id": "Y5wpcH5IQRsj",
        "colab": {
          "base_uri": "https://localhost:8080/"
        },
        "outputId": "ad5363e3-aa05-4a49-c8b0-e64582dfb4e1"
      },
      "source": [
        "# Lambda function\n",
        "# lambda is a anonymous function and can take number of argument but single expression\n",
        "\n",
        "x=lambda a,b:a+b\n",
        "print(x(23,45))\n",
        "\n",
        "\n",
        "\n",
        "\n",
        "def f1(n):\n",
        "  return lambda a:a+n\n",
        "\n",
        "double= f1('shubham')\n",
        "print(double('kadu'))\n",
        "\n"
      ],
      "execution_count": null,
      "outputs": [
        {
          "output_type": "stream",
          "text": [
            "68\n",
            "kadushubham\n"
          ],
          "name": "stdout"
        }
      ]
    },
    {
      "cell_type": "code",
      "metadata": {
        "colab": {
          "base_uri": "https://localhost:8080/"
        },
        "id": "8WXOtZcjV5kX",
        "outputId": "76aa6b47-ec9c-4cf6-87a9-10a7c3683ed2"
      },
      "source": [
        "#filter function\n",
        "# filter function called the specified function that would return the boolean for each item in list\n",
        "\n",
        "def prime(x):\n",
        "  for n in range(2,x):\n",
        "    if x%2== 0:\n",
        "      return False\n",
        "    else:\n",
        "      return True\n",
        "\n",
        "filtered = filter(prime,[1,3,4,43,4,3,574,5,6,7])\n",
        "print(list(filtered))\n",
        "\n",
        "\n",
        "def prime(x):\n",
        "  for n in range(2,x):\n",
        "    if x%2== 0:\n",
        "      return False\n",
        "    else:\n",
        "      return True\n",
        "\n",
        "filtered = filter(prime,range(20))\n",
        "print('this is the filter value'list(filtered))"
      ],
      "execution_count": null,
      "outputs": [
        {
          "output_type": "stream",
          "text": [
            "[3, 43, 3, 5, 7]\n"
          ],
          "name": "stdout"
        }
      ]
    },
    {
      "cell_type": "code",
      "metadata": {
        "colab": {
          "base_uri": "https://localhost:8080/"
        },
        "id": "HLO5MsLecKqw",
        "outputId": "f8203928-fa7d-4838-d4d2-09c3b322c678"
      },
      "source": [
        "#map function \n",
        "#map function need function and iterable\n",
        "def squre(x):\n",
        "  return x*x\n",
        "\n",
        "\n",
        "a=[1,2,3,4,5,6]\n",
        "number = map(squre,[1,2,3,4,5,6])\n",
        "print(list(number))"
      ],
      "execution_count": null,
      "outputs": [
        {
          "output_type": "stream",
          "text": [
            "[1, 4, 9, 16, 25, 36]\n"
          ],
          "name": "stdout"
        }
      ]
    },
    {
      "cell_type": "code",
      "metadata": {
        "id": "lJ0ihi2cWtC7"
      },
      "source": [
        "# how to read the xl data\n",
        "import xlrd"
      ],
      "execution_count": null,
      "outputs": []
    },
    {
      "cell_type": "code",
      "metadata": {
        "colab": {
          "base_uri": "https://localhost:8080/"
        },
        "id": "6-2DKhxefEG4",
        "outputId": "c719ba0d-0273-4fa0-d57e-39631c11b328"
      },
      "source": [
        "#iterator\n",
        "# itarator is an object that containt the value\n",
        "\n",
        "#iterator\n",
        "#iterable==> tuple,list and dict\n",
        "\n",
        "tuple1=('shubham','rugwed','himanshu')\n",
        "\n",
        "myit=iter(tuple1)\n",
        "print(next(myit))\n",
        "\n",
        "\n",
        "\n"
      ],
      "execution_count": null,
      "outputs": [
        {
          "output_type": "stream",
          "text": [
            "shubham\n"
          ],
          "name": "stdout"
        }
      ]
    }
  ]
}